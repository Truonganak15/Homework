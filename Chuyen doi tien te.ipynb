{
 "cells": [
  {
   "cell_type": "code",
   "execution_count": null,
   "id": "5441bab1",
   "metadata": {},
   "outputs": [],
   "source": [
    "Mô tả\n",
    "Ứng dụng chuyển đổi tiền tệ cho phép tính giá trị tiền tệ giữa các đồng tiền khác nhau dựa vào một tỉ giá cho trước.\n",
    "\n",
    "Hướng dẫn\n",
    "Bước 1: Nhập số tiền USD cần đổi\n",
    "\n",
    "Bước 2: Nhập tỉ giá USD/VND \n",
    "\n",
    "Bước 3: Tính toán ra số tiền VND theo tỉ giá và số tiền USD nhập vào bên trên\n",
    "\n",
    "Bước 4: In ra kết quả"
   ]
  },
  {
   "cell_type": "code",
   "execution_count": 1,
   "id": "fe5aede6",
   "metadata": {},
   "outputs": [
    {
     "name": "stdout",
     "output_type": "stream",
     "text": [
      "please input USD: 50\n",
      "Please input USD/VND exchange rate: 22330\n",
      "Money in VND: 1116500\n"
     ]
    }
   ],
   "source": [
    "USD = int(input(f'please input USD: '))\n",
    "exchange_rate = int(input(f'Please input USD/VND exchange rate: '))\n",
    "VND = USD * exchange_rate\n",
    "print(f'Money in VND: {VND}')"
   ]
  },
  {
   "cell_type": "code",
   "execution_count": null,
   "id": "a617c8e3",
   "metadata": {},
   "outputs": [],
   "source": []
  }
 ],
 "metadata": {
  "kernelspec": {
   "display_name": "Python 3 (ipykernel)",
   "language": "python",
   "name": "python3"
  },
  "language_info": {
   "codemirror_mode": {
    "name": "ipython",
    "version": 3
   },
   "file_extension": ".py",
   "mimetype": "text/x-python",
   "name": "python",
   "nbconvert_exporter": "python",
   "pygments_lexer": "ipython3",
   "version": "3.11.1"
  }
 },
 "nbformat": 4,
 "nbformat_minor": 5
}
