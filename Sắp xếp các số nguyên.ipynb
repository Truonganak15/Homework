{
 "cells": [
  {
   "cell_type": "code",
   "execution_count": null,
   "id": "bb145763",
   "metadata": {},
   "outputs": [],
   "source": [
    "Viết chương trình cho người dùng nhập vào 3 số nguyên bất kỳ, sau đó sẽ in ra thứ tự tăng dần của 3 số nguyên được nhập vào."
   ]
  },
  {
   "cell_type": "code",
   "execution_count": 4,
   "id": "638c36a9",
   "metadata": {},
   "outputs": [
    {
     "name": "stdout",
     "output_type": "stream",
     "text": [
      "Nhập số nguyên thứ nhất: 56\n",
      "Nhập số nguyên thứ hai: 26\n",
      "Nhập số nguyên thứ ba: 58\n",
      "Thứ tự tăng dần của 3 số nguyên là: 26 56 58\n"
     ]
    }
   ],
   "source": [
    "# Nhập vào 3 số nguyên từ người dùng\n",
    "num1 = int(input(\"Nhập số nguyên thứ nhất: \"))\n",
    "num2 = int(input(\"Nhập số nguyên thứ hai: \"))\n",
    "num3 = int(input(\"Nhập số nguyên thứ ba: \"))\n",
    "\n",
    "# Sắp xếp các số nguyên theo thứ tự tăng dần\n",
    "if num1 <= num2 and num1 <= num3:\n",
    "    smallest = num1\n",
    "    if num2 <= num3:\n",
    "        middle = num2\n",
    "        largest = num3\n",
    "    else:\n",
    "        middle = num3\n",
    "        largest = num2\n",
    "elif num2 <= num1 and num2 <= num3:\n",
    "    smallest = num2\n",
    "    if num1 <= num3:\n",
    "        middle = num1\n",
    "        largest = num3\n",
    "    else:\n",
    "        middle = num3\n",
    "        largest = num1\n",
    "else:\n",
    "    smallest = num3\n",
    "    if num1 <= num2:\n",
    "        middle = num1\n",
    "        largest = num2\n",
    "    else:\n",
    "        middle = num2\n",
    "        largest = num1\n",
    "\n",
    "# In ra thứ tự tăng dần của 3 số nguyên\n",
    "print(\"Thứ tự tăng dần của 3 số nguyên là:\", smallest, middle, largest)\n"
   ]
  },
  {
   "cell_type": "code",
   "execution_count": null,
   "id": "9242dd29",
   "metadata": {},
   "outputs": [],
   "source": []
  }
 ],
 "metadata": {
  "kernelspec": {
   "display_name": "Python 3 (ipykernel)",
   "language": "python",
   "name": "python3"
  },
  "language_info": {
   "codemirror_mode": {
    "name": "ipython",
    "version": 3
   },
   "file_extension": ".py",
   "mimetype": "text/x-python",
   "name": "python",
   "nbconvert_exporter": "python",
   "pygments_lexer": "ipython3",
   "version": "3.11.1"
  }
 },
 "nbformat": 4,
 "nbformat_minor": 5
}
