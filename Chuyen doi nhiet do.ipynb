{
 "cells": [
  {
   "cell_type": "code",
   "execution_count": null,
   "id": "140747d4",
   "metadata": {},
   "outputs": [],
   "source": [
    "## Mô tả\n",
    "##Viết chương trình nhập một giá trị là độ 0C (Celsius) và chuyển nó sang độ 0F (Fahrenheit).\n",
    "\n",
    "##Nhập vào giá trị độ °C muốn chuyển đổi\n",
    "##Tính độ °F tương ứng qua công thức:\n",
    "##°F  =  ( °C × 1.8 ) +  32\n",
    "##Hiển thị độ °F (In ra màn hình)"
   ]
  },
  {
   "cell_type": "code",
   "execution_count": 2,
   "id": "2c9b66f1",
   "metadata": {},
   "outputs": [
    {
     "name": "stdout",
     "output_type": "stream",
     "text": [
      "please input Celsius degree: 36\n",
      "Farenheit degree = 96.8\n"
     ]
    }
   ],
   "source": [
    "n = int(input(f'please input Celsius degree: '))\n",
    "f = n * 1.8 + 32\n",
    "print(f'Farenheit degree = {f}')"
   ]
  },
  {
   "cell_type": "code",
   "execution_count": null,
   "id": "2de32d3f",
   "metadata": {},
   "outputs": [],
   "source": []
  }
 ],
 "metadata": {
  "kernelspec": {
   "display_name": "Python 3 (ipykernel)",
   "language": "python",
   "name": "python3"
  },
  "language_info": {
   "codemirror_mode": {
    "name": "ipython",
    "version": 3
   },
   "file_extension": ".py",
   "mimetype": "text/x-python",
   "name": "python",
   "nbconvert_exporter": "python",
   "pygments_lexer": "ipython3",
   "version": "3.11.1"
  }
 },
 "nbformat": 4,
 "nbformat_minor": 5
}
