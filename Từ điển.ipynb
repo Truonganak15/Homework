{
 "cells": [
  {
   "cell_type": "code",
   "execution_count": null,
   "id": "5ddd4b95",
   "metadata": {},
   "outputs": [],
   "source": [
    "Mô tả\n",
    "\n",
    "Viết chương trình cho phép người dùng tra cứu các từ tiếng Anh sang tiếng Việt bằng cách nhập từ cần tra cứu. \n",
    "Danh sách các từ được lưu trữ sẵn trong một Dictionary.\n",
    "\n",
    "Hướng dẫn\n",
    "\n",
    "Bước 1: Khai báo hàm tìm và in ra từ sau khi được dịch\n",
    "\n",
    "Hàm nhận hai tham số truyền vào là data từ điển và từ cần dịch\n",
    "Sử dụng for…in để lặp qua data từ điển, giá trị lặp sẽ là các từ\n",
    "Trong vòng lặp, sử dụng hàm if để kiểm tra từ lặp có giá trị bằng từ cần dịch hay không:\n",
    "Nếu đúng thì in ra giá trị của từ lặp\n",
    "Bước 2: Khai báo biến input_word, mang giá trị là từ cần dịch mà người dùng nhập vào\n",
    "\n",
    "Sử dụng hàm input() để lấy giá trị mà người dùng nhập vào, sau đó gán giá trị cho biến input_word\n",
    "Bước 3: Gọi hàm tìm từ cần dịch\n",
    "\n",
    "Gọi hàm tìm từ cần dịch, truyền data từ điển và từ cần dịch vào làm tham số, gán giá trị trả về cho biến translated_word\n",
    "Bước 4: In ra kết quả\n",
    "\n",
    "Sử dụng hàm if…else để kiểm tra biến translated_word có giá trị hay không:\n",
    "Nếu có thì in ra giá trị translated_word\n",
    "Nếu không thì in ra thông báo từ vừa nhập không có trong từ điển"
   ]
  },
  {
   "cell_type": "code",
   "execution_count": 5,
   "id": "0eeb9dd6",
   "metadata": {},
   "outputs": [
    {
     "name": "stdout",
     "output_type": "stream",
     "text": [
      "please input string: Hello\n",
      "Hello : Xin chao\n"
     ]
    }
   ],
   "source": [
    "# tu dien\n",
    "dict1 = {\"Hello\" : \"Xin chao\",\n",
    "    \"Goodbye\" : \"Tam biet\",\n",
    "    \"Good morning\" : \"Chao buoi sang\"}\n",
    "\n",
    "# ham tra cuu\n",
    "\n",
    "def lookup(string, dict1):\n",
    "    for i in dict1:\n",
    "        if i == string:\n",
    "            print(f'{i} : {dict1[i]}')\n",
    "            break\n",
    "        else: \n",
    "            print(f'{string} does not have any meaning')\n",
    "\n",
    "# nhap va goi ham\n",
    "string = input(\"please input string: \")\n",
    "lookup(string, dict1)"
   ]
  },
  {
   "cell_type": "code",
   "execution_count": null,
   "id": "daa49286",
   "metadata": {},
   "outputs": [],
   "source": []
  }
 ],
 "metadata": {
  "kernelspec": {
   "display_name": "Python 3 (ipykernel)",
   "language": "python",
   "name": "python3"
  },
  "language_info": {
   "codemirror_mode": {
    "name": "ipython",
    "version": 3
   },
   "file_extension": ".py",
   "mimetype": "text/x-python",
   "name": "python",
   "nbconvert_exporter": "python",
   "pygments_lexer": "ipython3",
   "version": "3.11.1"
  }
 },
 "nbformat": 4,
 "nbformat_minor": 5
}
