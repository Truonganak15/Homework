{
 "cells": [
  {
   "cell_type": "code",
   "execution_count": null,
   "id": "b676f752",
   "metadata": {},
   "outputs": [],
   "source": [
    "Khởi  tạo một list chứa các số cho trước. Tìm hai số lớn nhất của list vừa tạo được\n",
    "\n",
    "Hướng dẫn\n",
    "Có nhiều cách để giải quyết bài toán trên:\n",
    "\n",
    "C1: Sắp xếp list theo thứ tự tăng dần, sau đó lấy các phần tử có chỉ số -1 và -2\n",
    "\n",
    "C2: Sắp xếp list theo thứ tự giảm dần, sau đó lấy các phần tử có chỉ số 0 và 1\n",
    "\n",
    "Lưu ý: Các trường hợp list có ít hơn 2 phần tử…"
   ]
  },
  {
   "cell_type": "code",
   "execution_count": 25,
   "id": "2bf73ad9",
   "metadata": {},
   "outputs": [
    {
     "name": "stdout",
     "output_type": "stream",
     "text": [
      "hai so lon nhat la: 90, 89\n"
     ]
    }
   ],
   "source": [
    "list1 = [23, 45,6, 78, 89, 90, 34, 33, 34]\n",
    "list1.sort(reverse = True)\n",
    "if len(list1) < 2: \n",
    "    print(f'so lon nhat la: {list1[0]}')\n",
    "else: print(f'hai so lon nhat la: {list1[0]}, {list1[1]}')"
   ]
  },
  {
   "cell_type": "code",
   "execution_count": null,
   "id": "5c064bb7",
   "metadata": {},
   "outputs": [],
   "source": []
  }
 ],
 "metadata": {
  "kernelspec": {
   "display_name": "Python 3 (ipykernel)",
   "language": "python",
   "name": "python3"
  },
  "language_info": {
   "codemirror_mode": {
    "name": "ipython",
    "version": 3
   },
   "file_extension": ".py",
   "mimetype": "text/x-python",
   "name": "python",
   "nbconvert_exporter": "python",
   "pygments_lexer": "ipython3",
   "version": "3.11.1"
  }
 },
 "nbformat": 4,
 "nbformat_minor": 5
}
