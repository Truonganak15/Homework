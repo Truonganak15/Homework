{
 "cells": [
  {
   "cell_type": "code",
   "execution_count": null,
   "id": "6772f4a3",
   "metadata": {},
   "outputs": [],
   "source": [
    "Mô tả\n",
    "\n",
    "Viết chương trình cho phép người dùng nhập chuỗi và và hiển thị số ký tự trong chuỗi vừa nhập vào.\n",
    "\n",
    "Hướng dẫn\n",
    "\n",
    "Bước 1: Khởi tạo hàm đếm số ký tự trong chuỗi, tham số đầu vào sẽ là chuỗi được đếm\n",
    "\n",
    "Khởi tạo biến result mang kết quả số ký tự đếm được trong chuỗi, giá trị khởi tạo bằng 0.\n",
    "Dùng for…in để tạo vòng lặp lặp qua chuỗi được đếm, qua mỗi vòng lặp thì result sẽ được cộng thêm 1\n",
    "Kết thúc vòng lặp sẽ trả về kết quả đếm được\n",
    "def count_chars(txt):\n",
    "    result = 0\n",
    "    for char in txt:\n",
    "        result += 1\n",
    "    return result\n",
    "Bước 2: Nhận chuỗi muốn đếm của người dùng\n",
    "\n",
    "Dùng input() để nhận giá trị là chuỗi string mà người dùng muốn đếm, tạm gán cho biến input_str\n",
    "input_str = input('Your string: ')\n",
    "\n",
    "Bước 3: Gọi hàm đếm và in ra kết quả cho người dùng\n",
    "\n",
    "print('Length: ', count_chars(input_str))"
   ]
  },
  {
   "cell_type": "code",
   "execution_count": 3,
   "id": "6af7aeea",
   "metadata": {},
   "outputs": [
    {
     "name": "stdout",
     "output_type": "stream",
     "text": [
      "please input string: hello\n",
      "Do dai cua chuoi la: 5\n"
     ]
    }
   ],
   "source": [
    "def count_chars(txt):\n",
    "    result = 0\n",
    "    for i in txt:\n",
    "        result += 1\n",
    "    return result\n",
    "\n",
    "input_str = input(\"please input string: \")\n",
    "print(f'Do dai cua chuoi la: {count_chars(input_str)}')\n",
    "\n",
    "        "
   ]
  },
  {
   "cell_type": "code",
   "execution_count": null,
   "id": "1e9ec9fd",
   "metadata": {},
   "outputs": [],
   "source": []
  }
 ],
 "metadata": {
  "kernelspec": {
   "display_name": "Python 3 (ipykernel)",
   "language": "python",
   "name": "python3"
  },
  "language_info": {
   "codemirror_mode": {
    "name": "ipython",
    "version": 3
   },
   "file_extension": ".py",
   "mimetype": "text/x-python",
   "name": "python",
   "nbconvert_exporter": "python",
   "pygments_lexer": "ipython3",
   "version": "3.11.1"
  }
 },
 "nbformat": 4,
 "nbformat_minor": 5
}
