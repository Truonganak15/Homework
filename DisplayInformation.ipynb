{
 "cells": [
  {
   "cell_type": "code",
   "execution_count": 7,
   "id": "4ffa5c31",
   "metadata": {},
   "outputs": [
    {
     "name": "stdout",
     "output_type": "stream",
     "text": [
      "please input name: Nguyen Sy Truong An\n",
      "please input birthday: 30/11/1994\n",
      "please input address: 123 Yen Hoa\n",
      "Please input reason to stuydy Python: To earn monney\n",
      "Nguyen Sy Truong An\n",
      "30/11/1994\n",
      "123 Yen Hoa\n",
      "To earn monney\n"
     ]
    }
   ],
   "source": [
    "name = input(f'please input name: ')\n",
    "birthday = input(f'please input birthday: ')\n",
    "address = input(f'please input address: ')\n",
    "reason = input(f'Please input reason to study Python: ')\n",
    "print(name)\n",
    "print(birthday)\n",
    "print(address)\n",
    "print(reason)"
   ]
  },
  {
   "cell_type": "code",
   "execution_count": null,
   "id": "b96608ed",
   "metadata": {},
   "outputs": [],
   "source": []
  }
 ],
 "metadata": {
  "kernelspec": {
   "display_name": "Python 3 (ipykernel)",
   "language": "python",
   "name": "python3"
  },
  "language_info": {
   "codemirror_mode": {
    "name": "ipython",
    "version": 3
   },
   "file_extension": ".py",
   "mimetype": "text/x-python",
   "name": "python",
   "nbconvert_exporter": "python",
   "pygments_lexer": "ipython3",
   "version": "3.11.1"
  }
 },
 "nbformat": 4,
 "nbformat_minor": 5
}
