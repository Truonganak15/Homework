{
 "cells": [
  {
   "cell_type": "code",
   "execution_count": null,
   "id": "8a5c33a4",
   "metadata": {},
   "outputs": [],
   "source": [
    "Mô tả\n",
    "\n",
    "Viết chương trình cho phép người dùng quản lý sản phẩm, gồm các chức năng sau: \n",
    "\n",
    "Hiển thị danh sách sản phẩm\n",
    "Thêm sản phẩm mới vào danh sách\n",
    "Sửa tên của sản phẩm trong danh sách\n",
    "Xoá một sản phẩm khỏi danh sách\n",
    "Hướng dẫn\n",
    "\n",
    "Bước 1:  Khai báo hàm lấy thông tin sản phẩm bằng id sản phẩm\n",
    "\n",
    "Hàm này sẽ nhận hai tham số truyền vào là danh sách sản phẩm và id sản phẩm cần tìm\n",
    "Sử dụng if…in để kiểm tra id sản phẩm có trong danh sách sản phẩm hay không, nếu có thì trả về thông tin của sản phẩm làm kết \n",
    "quả của hàm\n",
    "Bước 2: Khai báo hàm cập nhật danh sách sản phẩm\n",
    "\n",
    "Hàm sẽ nhận ba tham số truyền vào là danh sách sản phẩm, id sản phẩm cần cập nhật và tên mới của sản phẩm.\n",
    "Sử dụng prods_db[prod_id] để lấy ra thông tin của sản phẩm, sau đó gán giá trị tên mới cho biến này. Nếu không có key trùng với \n",
    "prod_id thì hàm này sẽ tạo key-value tương ứng cho data danh sách sản phẩm\n",
    "Bước 3: Sử dụng print() để in ra danh sách sản phẩm hiện tại\n",
    "\n",
    "Bước 4: Khởi tạo vòng lặp\n",
    "\n",
    "Sử dụng while true: để khởi tạo vòng lặp, vòng lặp này sẽ được kết thúc khi người dùng chọn option “exit”\n",
    "Những bước tiếp theo bên dưới sẽ được viết và thực hiện bên trong vòng lặp\n",
    "Bước 5: In ra màn hình các lựa chọn mà người dùng có thể chọn để thực hiện\n",
    "\n",
    "Sử dụng print() để thực hiện việc in thông báo ra màn hình\n",
    "Bước 6: Khai báo biến option, mang giá trị phương thức quản lý mà người dùng muốn thực hiện\n",
    "\n",
    "Sử dụng input() để lấy giá trị người dùng nhập vào, dùng int() để chuyển giá trị về kiểu int, sau đó gán giá trị cho biến option\n",
    "Bước 7: Dùng if…elif…else để kiểm tra giá trị của biến option và thực hiện các hàm theo đúng giá trị đó\n",
    "\n",
    "Trường hợp 1: option == 1: Thêm sản phẩm mới\n",
    "Sử dụng hàm input() để người dùng nhập id sản phẩm cần tìm, sử dụng int() để chuyển giá trị về kiểu int và sau đó gán giá trị\n",
    "này cho biến product_id\n",
    "Gọi hàm lấy thông tin sản phẩm trong danh sách sản phẩm, sử dụng if…else để kiểm tra giá trị trả về:\n",
    "Nếu có giá trị trả về thì thông báo cho người đã có sản phẩm tồn tại với id vừa nhập\n",
    "Nếu không thì sử dụng input() để người dùng nhập tên sản phẩm và gán giá trị cho biến product_name,  sau đó tiến hành gọi hàm\n",
    "cập nhật danh sách sản phẩm\n",
    "Trường hợp 2: option == 2: Cập nhật sản phẩm \n",
    "Sử dụng hàm input() để người dùng nhập id sản phẩm cần tìm, sử dụng int() để chuyển giá trị về kiểu int và sau đó gán giá trị \n",
    "này cho biến product_id\n",
    "Gọi hàm lấy thông tin sản phẩm trong danh sách sản phẩm, sử dụng if…else để kiểm tra giá trị trả về:\n",
    "Nếu có giá trị trả về thì sử dụng input() để người dùng nhập tên sản phẩm và gán giá trị cho biến product_name, sau đó tiến \n",
    " hành hàm gọi cập nhật danh sách sản phẩm\n",
    "Nếu không thì thông báo sản phẩm với id vừa nhập không tồn tại\n",
    "Trường hợp 3: option == 3: Xoá sản phẩm\n",
    "Sử dụng hàm input() để người dùng nhập id sản phẩm cần tìm, sử dụng int() để chuyển giá trị về kiểu int và sau đó gán giá trị \n",
    "này cho biến product_id\n",
    "Gọi hàm lấy thông tin sản phẩm trong danh sách sản phẩm, sử dụng if…else để kiểm tra giá trị trả về:\n",
    "Nếu có giá trị trả về thì sử dụng lệnh del để xoá sản phẩm với id vừa nhập, sau đó in ra thông báo xoá sản phẩm thành công\n",
    "Nếu không thì thông báo sản phẩm với id vừa nhập không tồn tại\n",
    "Trường hợp 4: option == 4: Thoát khỏi ứng dụng (kết thúc vòng lặp)\n",
    "Sử dụng lệnh break để kết thúc vòng lặp while\n",
    "Trường hợp 5: option khác\n",
    "Sử dụng print() để thông báo cho người dùng đầu vào không hợp lệ\n",
    "Bước 8: In ra danh sách sản phẩm sau khi quản lý\n",
    "\n",
    "Sử dụng print() để in ra danh sách sản phẩm"
   ]
  },
  {
   "cell_type": "code",
   "execution_count": 43,
   "id": "abeb9f87",
   "metadata": {},
   "outputs": [
    {
     "name": "stdout",
     "output_type": "stream",
     "text": [
      "please input product id: 1\n",
      "please input new product: oppo\n",
      "1: xiaomi\n",
      "1: oppo\n"
     ]
    }
   ],
   "source": [
    "product = {\n",
    "1: \"xiaomi\",\n",
    "2: \"samsung\",\n",
    "3: \"apple\",\n",
    "}\n",
    "\n",
    "\n",
    "# ham lay thong tin san pham\n",
    "def product_info(product_id, product):\n",
    "    for i in product:\n",
    "        if i == product_id:\n",
    "            print(f'{i}: {product[i]}')\n",
    "            \n",
    "            \n",
    "# ham sua ten san pham\n",
    "def product_update(product_id, product, product_new_name):\n",
    "    for i in product: \n",
    "        if i == product_id:\n",
    "            product[i] = product_new_name\n",
    "            break\n",
    "    print(f'{i}: {product[i]}')\n",
    "\n",
    "# ham xoa san pham\n",
    "def product_del(product_id, product):\n",
    "    if product_id in product:\n",
    "        product.pop(product_id)\n",
    "\n",
    "def choice(choice_number):\n",
    "    if choice_number == 1:\n",
    "        product_info(product_id, product)\n",
    "    elif choice_number == 2:\n",
    "        product_update(product_id, product, product_new_name)\n",
    "        \n",
    "product_id = int(input(\"please input product id: \"))\n",
    "product_new_name = input(\"please input new product: \")\n",
    "product_info(product_id, product)\n",
    "product_update(product_id, product, product_new_name)\n",
    "product_del(product_id, product)\n",
    "\n",
    "choice(1)\n",
    "        "
   ]
  },
  {
   "cell_type": "code",
   "execution_count": 18,
   "id": "0a92f9c6",
   "metadata": {},
   "outputs": [
    {
     "name": "stdout",
     "output_type": "stream",
     "text": [
      "{1: 'xiaomi', 2: 'samsung', 3: 'apple', 4: 'oppo'}\n"
     ]
    }
   ],
   "source": [
    "product = {\n",
    "1: \"xiaomi\",\n",
    "2: \"samsung\",\n",
    "3: \"apple\",\n",
    "}\n",
    "product[4] = \"oppo\"\n",
    "print(product)"
   ]
  },
  {
   "cell_type": "code",
   "execution_count": 38,
   "id": "c072cf58",
   "metadata": {},
   "outputs": [
    {
     "name": "stdout",
     "output_type": "stream",
     "text": [
      "please input product id: 1\n",
      "{2: 'samsung', 3: 'apple'}\n"
     ]
    }
   ],
   "source": [
    "product = {\n",
    "1: \"xiaomi\",\n",
    "2: \"samsung\",\n",
    "3: \"apple\",\n",
    "}\n",
    "\n",
    "\n",
    "\n",
    "# ham xoa san pham\n",
    "def product_del(product_id, product):\n",
    "    if product_id in product:\n",
    "        product.pop(product_id)\n",
    "\n",
    "\n",
    "product_id = int(input(\"please input product id: \"))\n",
    "product_del(product_id, product)\n",
    "print(product)"
   ]
  },
  {
   "cell_type": "code",
   "execution_count": 36,
   "id": "f7d4414c",
   "metadata": {},
   "outputs": [
    {
     "name": "stdout",
     "output_type": "stream",
     "text": [
      "Trước khi xóa:\n",
      "{1: 'xiaomi', 2: 'samsung', 3: 'apple'}\n",
      "Nhập key của phần tử cần xóa: 1\n",
      "Sau khi xóa:\n",
      "{2: 'samsung', 3: 'apple'}\n"
     ]
    }
   ],
   "source": [
    "product = {\n",
    "    1: \"xiaomi\",\n",
    "    2: \"samsung\",\n",
    "    3: \"apple\"\n",
    "}\n",
    "\n",
    "# Hàm xóa phần tử\n",
    "def delete_item(product, key):\n",
    "    if key in product:\n",
    "        del product[key]\n",
    "\n",
    "# Sử dụng hàm xóa phần tử\n",
    "\n",
    "key = int(input(\"Nhập key của phần tử cần xóa: \"))\n",
    "delete_item(product, key)\n",
    "print(\"Sau khi xóa:\")\n",
    "print(product)"
   ]
  },
  {
   "cell_type": "code",
   "execution_count": null,
   "id": "1ca3cc13",
   "metadata": {},
   "outputs": [],
   "source": []
  }
 ],
 "metadata": {
  "kernelspec": {
   "display_name": "Python 3 (ipykernel)",
   "language": "python",
   "name": "python3"
  },
  "language_info": {
   "codemirror_mode": {
    "name": "ipython",
    "version": 3
   },
   "file_extension": ".py",
   "mimetype": "text/x-python",
   "name": "python",
   "nbconvert_exporter": "python",
   "pygments_lexer": "ipython3",
   "version": "3.11.1"
  }
 },
 "nbformat": 4,
 "nbformat_minor": 5
}
