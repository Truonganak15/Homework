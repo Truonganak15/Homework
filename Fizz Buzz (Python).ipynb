{
 "cells": [
  {
   "cell_type": "code",
   "execution_count": null,
   "id": "5fd3d824",
   "metadata": {},
   "outputs": [],
   "source": [
    "Fizz Buzz là một bài toán lập trình cổ điển. Đây là phiên bản sửa đổi nhẹ của nó.\n",
    "Viết chương trình lấy đầu vào là hai số nguyên: đầu và cuối khoảng (cả hai số đều thuộc khoảng).\n",
    "Chương trình sẽ in ra các số trong khoảng này. Nhưng nếu số đó chia hết cho 3, bạn sẽ in ra “Fizz” \n",
    "thay vì nó, nếu số đó chia hết cho 5, in ra “Buzz” và nếu số đó chia hết cho cả 3 và 5, hãy in ra “FizzBuzz”.\n",
    "\n",
    "Hướng dẫn\n",
    "Bước 1: Cho người dùng nhập biến\n",
    "\n",
    "Dùng hàm input() để nhập hai số bất kì. \n",
    "Dùng hàm split() để tách chuỗi số vừa nhập để lấy được số bất đầu và số kết thúc.\n",
    "Dùng hàm int() để chuyển số bắt đầu và kết thúc về kiểu int.\n",
    "Bước 2: Kiểm tra biến nhập\n",
    "\n",
    "Dùng if…else để xử lý hai trường hợp có thể xảy ra:\n",
    "Nếu số kết thúc bé hơn số bắt đầu thì thông báo số kết thúc cần lớn hơn số bắt    đầu\n",
    "Nếu số bắt đầu lớn hơn hoặc bằng số kết thúc thì bắt đầu xử lý việc in kết quả\n",
    "Bước 3: Bắt đầu xử lý việc in kết quả\n",
    "\n",
    "Dùng for…in range(start, end) để khởi tạo vòng lặp. \n",
    "Lưu ý: vòng lặp sẽ bắt đầu từ startNumber và kết thúc ở endNumber + 1 (để vòng lặp sẽ lặp qua được endNumber )\n",
    "\n",
    "Trong mỗi vòng lặp sẽ dùng khổi lệnh if…elif…else để kiểm tra biến lặp và in ra kết quả phù hợp: \n",
    "Chia hết cho 3 và 5 thì in ra “FizzBuzz”\n",
    "Hoặc chia hết cho 3 thì in ra “Fizz”\n",
    "Hoặc chia hết cho 5 thì in ra “Buzz”\n",
    "Không thuộc 3 trường hợp trên thì ra chính giá trị của biến lặp"
   ]
  },
  {
   "cell_type": "code",
   "execution_count": 1,
   "id": "e23953eb",
   "metadata": {},
   "outputs": [
    {
     "name": "stdout",
     "output_type": "stream",
     "text": [
      "please input start number: 20\n",
      "please input end number: 60\n",
      "Buzz\n",
      "Fizz\n",
      "22\n",
      "23\n",
      "Fizz\n",
      "Buzz\n",
      "26\n",
      "Fizz\n",
      "28\n",
      "29\n",
      "FizzBuzz\n",
      "31\n",
      "32\n",
      "Fizz\n",
      "34\n",
      "Buzz\n",
      "Fizz\n",
      "37\n",
      "38\n",
      "Fizz\n",
      "Buzz\n",
      "41\n",
      "Fizz\n",
      "43\n",
      "44\n",
      "FizzBuzz\n",
      "46\n",
      "47\n",
      "Fizz\n",
      "49\n",
      "Buzz\n",
      "Fizz\n",
      "52\n",
      "53\n",
      "Fizz\n",
      "Buzz\n",
      "56\n",
      "Fizz\n",
      "58\n",
      "59\n",
      "FizzBuzz\n"
     ]
    }
   ],
   "source": [
    "start_number = int(input(\"please input start number: \"))\n",
    "end_number = int(input(\"please input end number: \"))\n",
    "for i in range (start_number, end_number + 1):\n",
    "    if i % 3 == 0 and i % 5 != 0:\n",
    "        print(\"Fizz\")\n",
    "    elif i % 3 !=0 and i % 5 == 0:\n",
    "        print(\"Buzz\")\n",
    "    elif i % 3 == 0 and i % 5 == 0:\n",
    "        print(\"FizzBuzz\")\n",
    "    else:\n",
    "        print(i)\n"
   ]
  },
  {
   "cell_type": "code",
   "execution_count": null,
   "id": "774132bf",
   "metadata": {},
   "outputs": [],
   "source": []
  }
 ],
 "metadata": {
  "kernelspec": {
   "display_name": "Python 3 (ipykernel)",
   "language": "python",
   "name": "python3"
  },
  "language_info": {
   "codemirror_mode": {
    "name": "ipython",
    "version": 3
   },
   "file_extension": ".py",
   "mimetype": "text/x-python",
   "name": "python",
   "nbconvert_exporter": "python",
   "pygments_lexer": "ipython3",
   "version": "3.11.1"
  }
 },
 "nbformat": 4,
 "nbformat_minor": 5
}
