{
 "cells": [
  {
   "cell_type": "code",
   "execution_count": null,
   "id": "ef4d3905",
   "metadata": {},
   "outputs": [],
   "source": [
    "Mô tả\n",
    "Viết chương trình có khả năng kiểm tra tính chất chẵn lẻ của một số nhập vào. In ra màn hình số nhập vào là số chẵn, số lẽ hay không phải là các trường hợp trên.\n",
    "\n",
    "Hướng dẫn\n",
    "Sử dụng function: input() để nhập một số bất kì sau đó chuyển kiểu về float. Kiểm tra số nhập vào có chia hết cho 2 hay không?\n",
    "\n",
    "Nếu chia hết cho 2: số chẵn\n",
    "Nếu không chia hết cho 2 dư 1: số lẽ\n",
    "Ngoài ra: không phải số tự nhiên."
   ]
  },
  {
   "cell_type": "code",
   "execution_count": 1,
   "id": "73bbe872",
   "metadata": {},
   "outputs": [
    {
     "name": "stdout",
     "output_type": "stream",
     "text": [
      "Please input n: 3.6\n",
      "3.6 khong phai la so tu nhien\n"
     ]
    }
   ],
   "source": [
    "n = float(input(\"Please input n: \"))\n",
    "if n % 2 == 0:\n",
    "    print(f'{n} la so chan')\n",
    "elif n % 2 == 1:\n",
    "    print(f'{n} la so le')\n",
    "else:\n",
    "    print(f'{n} khong phai la so tu nhien')"
   ]
  },
  {
   "cell_type": "code",
   "execution_count": null,
   "id": "3f226a35",
   "metadata": {},
   "outputs": [],
   "source": []
  }
 ],
 "metadata": {
  "kernelspec": {
   "display_name": "Python 3 (ipykernel)",
   "language": "python",
   "name": "python3"
  },
  "language_info": {
   "codemirror_mode": {
    "name": "ipython",
    "version": 3
   },
   "file_extension": ".py",
   "mimetype": "text/x-python",
   "name": "python",
   "nbconvert_exporter": "python",
   "pygments_lexer": "ipython3",
   "version": "3.11.1"
  }
 },
 "nbformat": 4,
 "nbformat_minor": 5
}
