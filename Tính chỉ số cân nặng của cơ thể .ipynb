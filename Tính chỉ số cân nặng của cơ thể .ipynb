{
 "cells": [
  {
   "cell_type": "code",
   "execution_count": null,
   "id": "db5e1ef7",
   "metadata": {},
   "outputs": [],
   "source": [
    "Viết chương trình cho người dùng nhập cân nặng và chiều cao của mình. Sau đó hãy in ra chỉ số BMI (Body mass index), \n",
    "và tình trạng cơ thể của họ dựa theo công thức và bảng giá trị sau:\n",
    "\n",
    "BMI = cân nặng / (chiều cao ^ 2)\n",
    "\n",
    "Trong đó cân nặng tính bằng kg và chiều cao tính bằng m\n",
    "\n",
    "Chỉ số BMI đối với người trên 20 tuổi được phân loại và diễn giải theo bảng sau:\n",
    "\n",
    "BMI < 16: Gầy cấp độ III\n",
    "16 <= BMI < 17:  Gầy cấp độ II\n",
    "17<= BMI < 18.5: Gầy cấp độ I\n",
    "18.5 <= BMI < 25: Bình thường\n",
    "25 <= BMI < 30: Thừa cân\n",
    "30 <= BMI < 35 : Béo phì cấp độ I\n",
    "35 <= BMI < 40: Béo phì cấp độ II\n",
    "BMI > 40: Béo phì cấp độ III"
   ]
  },
  {
   "cell_type": "code",
   "execution_count": 3,
   "id": "618b1e7f",
   "metadata": {},
   "outputs": [
    {
     "name": "stdout",
     "output_type": "stream",
     "text": [
      "Please input height: 1.68\n",
      "Please input weight: 72\n",
      "25.510204081632658\n",
      "Thua can\n"
     ]
    }
   ],
   "source": [
    "height = float(input(\"Please input height: \"))\n",
    "weight = int(input(\"Please input weight: \"))\n",
    "BMI = weight/ (height ** 2)\n",
    "print(BMI)\n",
    "if BMI < 16:\n",
    "    print(f'Gay cap do III')\n",
    "elif 16 <= BMI < 17:\n",
    "    print(f'Gay cap do II')\n",
    "elif 17<= BMI < 18.5:\n",
    "    print(f'Gay cap do I')\n",
    "elif 18.5 <= BMI < 25:\n",
    "    print(f'Binh thuong')\n",
    "elif 25 <= BMI < 30:\n",
    "    print(f'Thua can')\n",
    "elif 30 <= BMI < 35:\n",
    "    print (f'Beo phi cap do I')\n",
    "elif 35 <= BMI < 40:\n",
    "    print(f'Beo phi cap do II')\n",
    "else:\n",
    "    print(f'Beo phi cap do III')\n"
   ]
  },
  {
   "cell_type": "code",
   "execution_count": null,
   "id": "16d70d3e",
   "metadata": {},
   "outputs": [],
   "source": []
  }
 ],
 "metadata": {
  "kernelspec": {
   "display_name": "Python 3 (ipykernel)",
   "language": "python",
   "name": "python3"
  },
  "language_info": {
   "codemirror_mode": {
    "name": "ipython",
    "version": 3
   },
   "file_extension": ".py",
   "mimetype": "text/x-python",
   "name": "python",
   "nbconvert_exporter": "python",
   "pygments_lexer": "ipython3",
   "version": "3.11.1"
  }
 },
 "nbformat": 4,
 "nbformat_minor": 5
}
