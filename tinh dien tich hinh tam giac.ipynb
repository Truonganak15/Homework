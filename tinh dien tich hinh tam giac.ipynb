{
 "cells": [
  {
   "cell_type": "code",
   "execution_count": 1,
   "id": "7d7f2fcf",
   "metadata": {},
   "outputs": [
    {
     "name": "stdout",
     "output_type": "stream",
     "text": [
      "Enter the length of side a: 5\n",
      "Enter the length of side b: 6\n",
      "Enter the length of side c: 8\n",
      " Area of the triangle is:  14.981238266578634\n"
     ]
    }
   ],
   "source": [
    "import math\n",
    "a = float(input(\"Enter the length of side a: \"))\n",
    "b = float(input(\"Enter the length of side b: \"))\n",
    "c = float(input(\"Enter the length of side c: \"))\n",
    "s = (a+b+c)/2\n",
    "area = math.sqrt(s*(s-a)*(s-b)*(s-c))\n",
    "print(\" Area of the triangle is: \", area)"
   ]
  },
  {
   "cell_type": "code",
   "execution_count": null,
   "id": "f1898d22",
   "metadata": {},
   "outputs": [],
   "source": []
  }
 ],
 "metadata": {
  "kernelspec": {
   "display_name": "Python 3 (ipykernel)",
   "language": "python",
   "name": "python3"
  },
  "language_info": {
   "codemirror_mode": {
    "name": "ipython",
    "version": 3
   },
   "file_extension": ".py",
   "mimetype": "text/x-python",
   "name": "python",
   "nbconvert_exporter": "python",
   "pygments_lexer": "ipython3",
   "version": "3.11.1"
  }
 },
 "nbformat": 4,
 "nbformat_minor": 5
}
