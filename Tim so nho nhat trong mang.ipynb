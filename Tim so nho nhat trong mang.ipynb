{
 "cells": [
  {
   "cell_type": "code",
   "execution_count": null,
   "id": "7eb14694",
   "metadata": {},
   "outputs": [],
   "source": [
    "Viết chương trình tìm giá trị nhỏ nhất trong mảng số cho trước"
   ]
  },
  {
   "cell_type": "code",
   "execution_count": 11,
   "id": "b2e70dd9",
   "metadata": {},
   "outputs": [
    {
     "name": "stdout",
     "output_type": "stream",
     "text": [
      "so nho nhat trong mang [2, 6, 8, 3] la 2\n"
     ]
    }
   ],
   "source": [
    "def min_number(numbers):\n",
    "    a = numbers[0]\n",
    "    for i in range(len(numbers)):\n",
    "        if numbers[i] < a:\n",
    "            a = numbers[i]\n",
    "    return a\n",
    "numbers = [2,6,8,3]\n",
    "sonhonhat = min_number(numbers)\n",
    "print(f'so nho nhat trong mang {numbers} la {sonhonhat}')"
   ]
  },
  {
   "cell_type": "code",
   "execution_count": null,
   "id": "98cf6439",
   "metadata": {},
   "outputs": [],
   "source": []
  }
 ],
 "metadata": {
  "kernelspec": {
   "display_name": "Python 3 (ipykernel)",
   "language": "python",
   "name": "python3"
  },
  "language_info": {
   "codemirror_mode": {
    "name": "ipython",
    "version": 3
   },
   "file_extension": ".py",
   "mimetype": "text/x-python",
   "name": "python",
   "nbconvert_exporter": "python",
   "pygments_lexer": "ipython3",
   "version": "3.11.1"
  }
 },
 "nbformat": 4,
 "nbformat_minor": 5
}
