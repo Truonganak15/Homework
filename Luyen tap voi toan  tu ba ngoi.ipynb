{
 "cells": [
  {
   "cell_type": "code",
   "execution_count": null,
   "id": "a18bbd9e",
   "metadata": {},
   "outputs": [],
   "source": [
    "Mô tả\n",
    "Kiểm tra số nhập vào là số chẳn hoặc lẻ, sử dụng toán tử điều kiện ba ngôi\n",
    "\n",
    "Hướng dẫn\n",
    "Nhập vào 1 số nguyên bất kì. Kiểm tra số nguyên nhập vào có chia hết cho 2 hay không?\n",
    "\n",
    "Nếu chia hết cho 2: số chẵn\n",
    "Nếu không chia hết cho 2 có dư : số lẻ"
   ]
  },
  {
   "cell_type": "code",
   "execution_count": 4,
   "id": "b52333aa",
   "metadata": {},
   "outputs": [
    {
     "name": "stdout",
     "output_type": "stream",
     "text": [
      "Please input n: 25\n",
      "25 is odd number\n"
     ]
    }
   ],
   "source": [
    "n = int(input(\"Please input n: \"))\n",
    "if n % 2 == 0:\n",
    "    print(f'{n} is even number')\n",
    "else: print(f'{n} is odd number')\n",
    "              "
   ]
  },
  {
   "cell_type": "code",
   "execution_count": null,
   "id": "d1fa744f",
   "metadata": {},
   "outputs": [],
   "source": []
  }
 ],
 "metadata": {
  "kernelspec": {
   "display_name": "Python 3 (ipykernel)",
   "language": "python",
   "name": "python3"
  },
  "language_info": {
   "codemirror_mode": {
    "name": "ipython",
    "version": 3
   },
   "file_extension": ".py",
   "mimetype": "text/x-python",
   "name": "python",
   "nbconvert_exporter": "python",
   "pygments_lexer": "ipython3",
   "version": "3.11.1"
  }
 },
 "nbformat": 4,
 "nbformat_minor": 5
}
