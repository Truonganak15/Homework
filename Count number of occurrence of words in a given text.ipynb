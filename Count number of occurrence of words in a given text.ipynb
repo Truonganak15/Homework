{
 "cells": [
  {
   "cell_type": "code",
   "execution_count": null,
   "id": "d20a2d8d",
   "metadata": {},
   "outputs": [],
   "source": [
    "Viết chương trình đếm số lần xuất hiện của một từ trong một văn bản nhất định (đã cho sẵn)\n",
    "\n",
    "Hướng dẫn\n",
    "\n",
    "Bước 1: Khai báo hàm đếm số lần xuất hiện của một từ trong một văn bản truyền vào\n",
    "\n",
    "Hàm sẽ nhận tham số truyền vào là chuỗi văn bản cần đếm\n",
    "Trong hàm, khai báo biến num_words, mang giá trị là các cặp key-value, tương ứng với từ được dếm và số lần xuất hiện của từ đó\n",
    "Sử dụng hàm split() để tách các từ trong chuỗi truyền vào và lưu thành một mảng, gán giá trị này cho biến text_list\n",
    "Sử dụng for…in để lặp qua mảng text_list, giá trị lặp sẽ là biến từ\n",
    "Sử dụng lower() để chuyển các ký tự hoa trong từ (nếu có) thành ký tự thường, sử dụng strip() để loại bỏ các khoản trắng đằng \n",
    "trước hoặc đằng sau từ (nếu có), sau đó gán giá trị vừa được cập này cho từ đang lặp.\n",
    "Sử dụng hàm get(key, value) để lấy giá trị đếm hiện tại của từ lặp trong num_words, nếu không tìm thấy thì giá trị mặc định \n",
    "ban đầu sẽ là 0\n",
    "Sau khi lấy được giá trị đếm của từ lặp trong num_words, cộng giá trị thêm 1 và gán giá trị này cho biến num_words[word] \n",
    "câu lệnh này cũng sẽ thực hiện việc thêm key-value cho num_words nếu không tìm thấy từ lặp trong num_words)\n",
    "Trả biến num_words làm kết quả hàm\n",
    "Bước 2: Khai báo biến message mang giá trị là văn bản cần đếm\n",
    "\n",
    "Bước 3: Gọi hàm đếm từ và truyền message làm tham số"
   ]
  },
  {
   "cell_type": "code",
   "execution_count": 20,
   "id": "8bea136a",
   "metadata": {},
   "outputs": [
    {
     "name": "stdout",
     "output_type": "stream",
     "text": [
      "please input content: hoc\n",
      "so chu 'hoc' trong chuoi 'toi hoc python va toi rat thich mon hoc nay' la 2\n"
     ]
    }
   ],
   "source": [
    "string = \"Toi Hoc Python va toi rat thich mon hoc nay\"\n",
    "\n",
    "def check(content, string):\n",
    "    num_words = 0\n",
    "    string = string.lower()\n",
    "    string = string.strip()\n",
    "    text_list = string.split()\n",
    "    for i in text_list:\n",
    "        if i == content:\n",
    "            num_words += 1\n",
    "    print(f\"so chu '{content}' trong chuoi '{string}' la {num_words}\")\n",
    "\n",
    "content = input(\"please input content: \")\n",
    "check(content, string)"
   ]
  },
  {
   "cell_type": "code",
   "execution_count": null,
   "id": "798b9760",
   "metadata": {},
   "outputs": [],
   "source": []
  }
 ],
 "metadata": {
  "kernelspec": {
   "display_name": "Python 3 (ipykernel)",
   "language": "python",
   "name": "python3"
  },
  "language_info": {
   "codemirror_mode": {
    "name": "ipython",
    "version": 3
   },
   "file_extension": ".py",
   "mimetype": "text/x-python",
   "name": "python",
   "nbconvert_exporter": "python",
   "pygments_lexer": "ipython3",
   "version": "3.11.1"
  }
 },
 "nbformat": 4,
 "nbformat_minor": 5
}
