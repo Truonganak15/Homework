{
 "cells": [
  {
   "cell_type": "code",
   "execution_count": null,
   "id": "6fbd4559",
   "metadata": {},
   "outputs": [],
   "source": [
    "Mô tả\n",
    "Viết chương trình yêu cầu người dùng nhập một số trong phạm vi từ 1 đến 7. Sau đó hãy in ra ngày tương ứng: \n",
    "\n",
    "1: Monday\n",
    "\n",
    "2: Tuesday\n",
    "\n",
    "3: Wednesday\n",
    "\n",
    "4: Thursday\n",
    "\n",
    "5: Friday\n",
    "\n",
    "6: Saturday\n",
    "\n",
    "7: Sunday\n",
    "\n",
    "Nếu người dùng nhập số ngoài phạm vi từ 1 đến 7 thì hãy in ra “error, out of range”.\n",
    "\n",
    "Hướng dẫn\n",
    "Sử dụng function: input() để nhập một số bất kì, sau đó chuyển kiểu về int. Kiểm tra số nhập vào có thoã các điều kiện hay không?\n",
    "\n",
    "Nếu bẳng 1: Monday,\n",
    "Hoặc nếu bằng 2: Tuesday,\n",
    "…\n",
    "Hoặc nếu bằng 7: Sunday,\n",
    "Ngoài ra: “error, out of range”"
   ]
  },
  {
   "cell_type": "code",
   "execution_count": 5,
   "id": "876fdb16",
   "metadata": {},
   "outputs": [
    {
     "name": "stdout",
     "output_type": "stream",
     "text": [
      "please input day: 9\n",
      "Error, out of range\n"
     ]
    }
   ],
   "source": [
    "n = int(input(f'please input day: '))\n",
    "if n == 1:\n",
    "    print('Monday')\n",
    "elif n == 2:\n",
    "    print('Tuesday')\n",
    "elif n == 3:\n",
    "    print('Wednesday')\n",
    "elif n == 4:\n",
    "    print('Thursday')\n",
    "elif n == 5:\n",
    "    print('Friday')\n",
    "elif n == 6:\n",
    "    print('Saturday')\n",
    "elif n == 7:\n",
    "    print('Sunday')\n",
    "else:\n",
    "    print('Error, out of range')"
   ]
  },
  {
   "cell_type": "code",
   "execution_count": null,
   "id": "139262e1",
   "metadata": {},
   "outputs": [],
   "source": []
  },
  {
   "cell_type": "code",
   "execution_count": null,
   "id": "4baeb4cf",
   "metadata": {},
   "outputs": [],
   "source": []
  }
 ],
 "metadata": {
  "kernelspec": {
   "display_name": "Python 3 (ipykernel)",
   "language": "python",
   "name": "python3"
  },
  "language_info": {
   "codemirror_mode": {
    "name": "ipython",
    "version": 3
   },
   "file_extension": ".py",
   "mimetype": "text/x-python",
   "name": "python",
   "nbconvert_exporter": "python",
   "pygments_lexer": "ipython3",
   "version": "3.11.1"
  }
 },
 "nbformat": 4,
 "nbformat_minor": 5
}
