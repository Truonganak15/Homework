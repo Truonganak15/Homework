{
 "cells": [
  {
   "cell_type": "code",
   "execution_count": null,
   "id": "e432df57",
   "metadata": {},
   "outputs": [],
   "source": [
    "Mô tả\n",
    "Viết chương trình hỏi người dùng đã chi bao nhiêu tiền tại cửa hàng.\n",
    "\n",
    "Nếu họ chi ít hơn 75$, họ sẽ không được giảm giá.\n",
    "\n",
    "Nếu họ chi 75$ trở lên, họ sẽ được giảm giá 15$.\n",
    "\n",
    "Nếu người dùng chi từ 100$ trở lên, họ sẽ được giảm giá 25$.\n",
    "\n",
    "Nếu người dùng chi từ 150$ trở lên, họ sẽ được giảm giá 50$.\n",
    "Sau đó in ra tổng số tiền mà người dùng phải thanh toán.\n",
    "\n",
    "Hướng dẫn\n",
    "Sử dụng function: input() để nhập một số tiền bất kì, sau đó chuyển kiểu về int. Dựa vào số tiền đã nhập, chúng ta sẽ tìm và in ra số tiền người dùng phải thanh toán thông qua các mức giảm giá:\n",
    "\n",
    "Nếu chi từ 150$ trở lên:  số tiền thanh toán = số tiền nhập – 50,\n",
    "Nếu chi từ 100$ trở lên:  số tiền thanh toán = số tiền nhập – 25,\n",
    "Nếu chi từ 75$ trở lên:  số tiền thanh toán = số tiền nhập – 15,\n",
    "Nếu chi ít hơn 75$:  số tiền thanh toán = số tiền nhập,"
   ]
  },
  {
   "cell_type": "code",
   "execution_count": 2,
   "id": "c2d1f28d",
   "metadata": {},
   "outputs": [
    {
     "name": "stdout",
     "output_type": "stream",
     "text": [
      "Please input money spent: 25\n",
      "total payment = 25\n"
     ]
    }
   ],
   "source": [
    "n = int(input('Please input money spent: '))\n",
    "if n < 75:\n",
    "    print(f'total payment = {n}')\n",
    "elif 75 <= n < 100:\n",
    "    print(f'total payment = {n - 15}')\n",
    "elif 100<= n < 150:\n",
    "    print(f'total payment = {n- 25}')\n",
    "else:\n",
    "    print(f'total payment = {n - 50}')"
   ]
  },
  {
   "cell_type": "code",
   "execution_count": null,
   "id": "8f277392",
   "metadata": {},
   "outputs": [],
   "source": []
  },
  {
   "cell_type": "code",
   "execution_count": null,
   "id": "164d6c32",
   "metadata": {},
   "outputs": [],
   "source": []
  }
 ],
 "metadata": {
  "kernelspec": {
   "display_name": "Python 3 (ipykernel)",
   "language": "python",
   "name": "python3"
  },
  "language_info": {
   "codemirror_mode": {
    "name": "ipython",
    "version": 3
   },
   "file_extension": ".py",
   "mimetype": "text/x-python",
   "name": "python",
   "nbconvert_exporter": "python",
   "pygments_lexer": "ipython3",
   "version": "3.11.1"
  }
 },
 "nbformat": 4,
 "nbformat_minor": 5
}
